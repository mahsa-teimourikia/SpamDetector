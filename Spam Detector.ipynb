{
 "cells": [
  {
   "cell_type": "markdown",
   "metadata": {},
   "source": [
    "# Spam Detector\n",
    "\n",
    "The goal of this Notebook is to train classifiers to detect spam/not spam emails. For this purpose, the data provided in UCI's Machine Learning Repository at: https://archive.ics.uci.edu/ml/datasets/spambase"
   ]
  },
  {
   "cell_type": "markdown",
   "metadata": {},
   "source": [
    "## Theoretical Background\n",
    "\n",
    "Here I will briefly decribe the theoretical background needed for developing the Spam Detector:\n",
    "\n",
    "### Naive Bayes Concepts\n",
    "\n",
    "Based on Bayes rule we have:\n",
    "$$p(y|x) = \\frac{p(x,y)}{p(x)}$$\n",
    "\n",
    "Here $x$ represents the input feature, and the $y$ represents the output feature.\n",
    "\n",
    "#### Manipulating the Bayes rule:\n",
    "\n",
    "$$p(y|x) = \\frac{p(x|y)p(y)}{p(x)}$$\n",
    "\n",
    "where: \n",
    "* $p(y|x)$ is the _posterior probability_ of $y$ given $x$ which is the distribution of the target given the input. \n",
    "* $p(x|y)$ is referred to as the _likelihood_ of $x$ given $y$, this is what the data looks like given the class y. For example, the distribution of the input for spam emails is probably different from the distribution of the input for non-spam emails.\n",
    "* $p(y)$ is the _prior_ probability of $y$. This is our best guess about $y$ if we have no information about $x$, which is for example the total proportion of spam/not-spam emails.\n",
    "* and $p(x)$ represents the _evidence_.\n",
    "\n",
    "Examples: \n",
    "* $p(y|x)$ - probability of seeing word \"insurance\" if spam = 90%\n",
    "* $p(y)$ - probability that any email is spam = 40%\n",
    "\n",
    "Note that the $p(y|x)$ actually represents multiple values: e.g., $p(y=spam |x)$, $p(y= not spam |x)$.\n",
    "\n",
    "In general, we can use the \"argmax\". We can also drop the $p(x)$ since it doesn't depend on y:\n",
    "\n",
    "$$ k^* = argmax_k \\{p(y=k|x)\\}$$\n",
    "\n",
    "$$ k^* = argmax_k \\{\\frac{p(x|y=k)p(y=k)}{p(x)}\\}$$ \n",
    "\n",
    "$$ k^* = argmax_k \\{p(x|y=k)p(y=k)\\}$$\n",
    "\n",
    "having $ k^* = argmax_k \\{p(x|y=k)p(y=k)\\}$, we need to calculate the likelihood and the prior probabilities:\n",
    "\n",
    "* Prior Probabilities:\n",
    "$$p(y=spam) = \\frac{\\#\\;spam\\;emails}{\\#\\;total\\;emails}$$\n",
    "\n",
    "$$p(y=not\\;spam) = \\frac{\\#\\;not\\;spam\\;emails}{\\#\\;total\\;emails}$$\n",
    "\n",
    "* Likelihood: we can choose a likelihood distribution that's appropriate for our feature vectors. For example, if we have real-valued/bell-curved feature vectors we should choose a Gaussian likelihood. If the data follows a multinomial distribution you should use a multinomial likelihood. Or if the data is binary you should choose the Bernoulli distribution.\n",
    "\n",
    "#### The Naive Assumption\n",
    "\n",
    "The \"Naive\" in Naive Bayes Networks comes from the fact that we assume each component of the feature vector is independent given $y$.\n",
    "\n",
    "If 2 components A and B are independent then $p(A,B) = p(A)p(B)$. Therefore:\n",
    "$$p(x|y) = \\prod_{d=1}^{D}p(x_d|y)$$\n",
    "\n",
    "The Naive assumption is not technically true in our example of spam detection as word frequencies are not independent of each other: e.g., if an email contains \"insurance\" it most probable that it also include \"loan\" and \"money\". However, Naive Bayes works very well with word frequencies.\n",
    "\n",
    "## AdaBoost Concepts\n",
    "The idea behind AdaBoost is that it makes it possible to combine many weak classifiers to form one strong classifier, this approach is referred to as __ensembling__. There are other ways to ensemble such as bagging and random forest. The uniqueness about AdaBoost is that it wants its base classifiers to be week (e.g., linear classifiers or decision stumps).\n",
    "\n",
    "AdaBoost weights each individual weak classifier:\n",
    "\n",
    "$$F(x) = \\sum_{m=1}^{M} w_mf_m(x)$$\n",
    "\n",
    "To find these weights:\n",
    "* AdaBoost builds up each individual decision stump one at a time.\n",
    "* At \"M-1\" stage, the classifier will consist of M-1 inividual decision stumps. At this point, it should find the next decision stump and its corresponding weight.\n",
    "* To do so, it finds the samples that the model get's most wrong, and gives them the highest weight to prioritize them in the newest decision stump.\n",
    "* Hence the model always gets improved on what it is not currently good at."
   ]
  },
  {
   "cell_type": "code",
   "execution_count": 37,
   "metadata": {},
   "outputs": [],
   "source": [
    "import numpy as np\n",
    "import pandas as pd\n",
    "\n",
    "from sklearn.model_selection import train_test_split\n",
    "from sklearn.naive_bayes import MultinomialNB\n",
    "from sklearn.ensemble import AdaBoostClassifier\n",
    "from sklearn.metrics import classification_report, confusion_matrix\n",
    "from sklearn.metrics import roc_curve, precision_recall_curve, average_precision_score\n",
    "\n",
    "import matplotlib.pyplot as plt\n",
    "import seaborn as sns\n",
    "%matplotlib inline"
   ]
  },
  {
   "cell_type": "markdown",
   "metadata": {},
   "source": [
    "## Additional codes for evaluating the models:"
   ]
  },
  {
   "cell_type": "code",
   "execution_count": 33,
   "metadata": {},
   "outputs": [],
   "source": [
    "def plot_confusion_matrix(y_test, y_pred,classes,normalize=False,title='Confusion Matrix',cmap=plt.cm.Blues):\n",
    "    \"\"\"\n",
    "    This function prints and plots the confusion matrix.\n",
    "    Normalization can be applied by setting `normalize=True`.\n",
    "    http://scikit-learn.org/stable/auto_examples/model_selection/plot_confusion_matrix.html\n",
    "    \"\"\"\n",
    "    # Compute confusion matrix\n",
    "    cm = confusion_matrix(y_test, y_pred)\n",
    "\n",
    "    np.set_printoptions(precision=2)\n",
    "\n",
    "    if normalize:\n",
    "        cm = cm.astype('float') / cm.sum(axis=1)[:, np.newaxis]\n",
    "   \n",
    "\n",
    "    plt.imshow(cm, interpolation='nearest', cmap=cmap)\n",
    "    plt.title(title)\n",
    "    plt.colorbar()\n",
    "    plt.grid(False)\n",
    "    tick_marks = np.arange(len(classes))\n",
    "    plt.xticks(tick_marks, classes, rotation=45)\n",
    "    plt.yticks(tick_marks, classes)\n",
    "\n",
    "    fmt = '.2f' if normalize else 'd'\n",
    "    thresh = cm.max() / 2.\n",
    "\n",
    "    for i in range(cm.shape[0]):\n",
    "        for j in range(cm.shape[1]):\n",
    "            plt.text(j, i, format(cm[i, j], fmt),\n",
    "                horizontalalignment=\"center\",\n",
    "                color=\"white\" if cm[i, j] > thresh else \"black\")\n",
    "    \n",
    "    plt.tight_layout()\n",
    "    plt.ylabel('True label')\n",
    "    plt.xlabel('Predicted label')\n",
    "\n",
    "def plot_side_by_side_confusion_matrix(y_test, y_pred):\n",
    "    \"\"\"\n",
    "    Plots the confusion matrix\n",
    "    \"\"\"\n",
    "    plt.figure(figsize=(12,4))\n",
    "    plt.subplot(121)\n",
    "    plot_confusion_matrix(y_test, y_pred, [0,1], normalize=False, title='Confusion Matrix')\n",
    "    plt.subplot(122)\n",
    "    plot_confusion_matrix(y_test, y_pred, [0,1], normalize=True, title='Normalized Confusion Matrix')\n",
    "    \n",
    "def plot_roc_curve(y_test, probs):\n",
    "    \"\"\"\n",
    "    Plots the ROC curve\n",
    "    \"\"\"\n",
    "    fpr, tpr, thresholds = roc_curve(y_test, probs)\n",
    "    plt.plot(fpr, tpr, lw=1)\n",
    "    plt.plot([0, 1], [0, 1], linestyle='--', lw=2, color='r')\n",
    "    plt.xlim([-0.05, 1.05])\n",
    "    plt.ylim([-0.05, 1.05])\n",
    "    plt.xlabel('False Positive Rate')\n",
    "    plt.ylabel('True Positive Rate')\n",
    "    plt.title('ROC')\n",
    "    plt.legend(loc=\"lower right\")\n",
    "\n",
    "def plot_precision_recall_curve(y_test, probs):\n",
    "    \"\"\"\n",
    "    Plots the Precision-Recall Curve\n",
    "    \"\"\"\n",
    "    precision, recall, _ = precision_recall_curve(y_test, probs)\n",
    "    average_precision = average_precision_score(y_test, probs)\n",
    "    plt.step(recall, precision, color='b', alpha=0.2, where='post')\n",
    "    plt.fill_between(recall, precision, step='post', alpha=0.2, color='b')\n",
    "\n",
    "    plt.xlabel('Recall')\n",
    "    plt.ylabel('Precision')\n",
    "    plt.ylim([0.0, 1.05])\n",
    "    plt.xlim([0.0, 1.0])\n",
    "    plt.title('2-class Precision-Recall curve: AP={0:0.2f}'.format(average_precision))"
   ]
  },
  {
   "cell_type": "markdown",
   "metadata": {},
   "source": [
    "## Reading the Data"
   ]
  },
  {
   "cell_type": "code",
   "execution_count": 2,
   "metadata": {},
   "outputs": [],
   "source": [
    "data = pd.read_csv('spambase/spambase.data')"
   ]
  },
  {
   "cell_type": "code",
   "execution_count": 9,
   "metadata": {
    "scrolled": false
   },
   "outputs": [
    {
     "data": {
      "text/html": [
       "<div>\n",
       "<style scoped>\n",
       "    .dataframe tbody tr th:only-of-type {\n",
       "        vertical-align: middle;\n",
       "    }\n",
       "\n",
       "    .dataframe tbody tr th {\n",
       "        vertical-align: top;\n",
       "    }\n",
       "\n",
       "    .dataframe thead th {\n",
       "        text-align: right;\n",
       "    }\n",
       "</style>\n",
       "<table border=\"1\" class=\"dataframe\">\n",
       "  <thead>\n",
       "    <tr style=\"text-align: right;\">\n",
       "      <th></th>\n",
       "      <th>word_freq_make</th>\n",
       "      <th>word_freq_address</th>\n",
       "      <th>word_freq_all</th>\n",
       "      <th>word_freq_3d</th>\n",
       "      <th>word_freq_our</th>\n",
       "      <th>word_freq_over</th>\n",
       "      <th>word_freq_remove</th>\n",
       "      <th>word_freq_internet</th>\n",
       "      <th>word_freq_order</th>\n",
       "      <th>word_freq_mail</th>\n",
       "      <th>...</th>\n",
       "      <th>char_freq_semi</th>\n",
       "      <th>char_freq_paran</th>\n",
       "      <th>char_freq_bracket</th>\n",
       "      <th>char_freq_excl</th>\n",
       "      <th>char_freq_dollar</th>\n",
       "      <th>char_freq_num</th>\n",
       "      <th>capital_run_length_average</th>\n",
       "      <th>capital_run_length_longest</th>\n",
       "      <th>capital_run_length_total</th>\n",
       "      <th>class</th>\n",
       "    </tr>\n",
       "  </thead>\n",
       "  <tbody>\n",
       "    <tr>\n",
       "      <th>0</th>\n",
       "      <td>0.21</td>\n",
       "      <td>0.28</td>\n",
       "      <td>0.50</td>\n",
       "      <td>0.0</td>\n",
       "      <td>0.14</td>\n",
       "      <td>0.28</td>\n",
       "      <td>0.21</td>\n",
       "      <td>0.07</td>\n",
       "      <td>0.00</td>\n",
       "      <td>0.94</td>\n",
       "      <td>...</td>\n",
       "      <td>0.00</td>\n",
       "      <td>0.132</td>\n",
       "      <td>0.0</td>\n",
       "      <td>0.372</td>\n",
       "      <td>0.180</td>\n",
       "      <td>0.048</td>\n",
       "      <td>5.114</td>\n",
       "      <td>101</td>\n",
       "      <td>1028</td>\n",
       "      <td>1</td>\n",
       "    </tr>\n",
       "    <tr>\n",
       "      <th>1</th>\n",
       "      <td>0.06</td>\n",
       "      <td>0.00</td>\n",
       "      <td>0.71</td>\n",
       "      <td>0.0</td>\n",
       "      <td>1.23</td>\n",
       "      <td>0.19</td>\n",
       "      <td>0.19</td>\n",
       "      <td>0.12</td>\n",
       "      <td>0.64</td>\n",
       "      <td>0.25</td>\n",
       "      <td>...</td>\n",
       "      <td>0.01</td>\n",
       "      <td>0.143</td>\n",
       "      <td>0.0</td>\n",
       "      <td>0.276</td>\n",
       "      <td>0.184</td>\n",
       "      <td>0.010</td>\n",
       "      <td>9.821</td>\n",
       "      <td>485</td>\n",
       "      <td>2259</td>\n",
       "      <td>1</td>\n",
       "    </tr>\n",
       "    <tr>\n",
       "      <th>2</th>\n",
       "      <td>0.00</td>\n",
       "      <td>0.00</td>\n",
       "      <td>0.00</td>\n",
       "      <td>0.0</td>\n",
       "      <td>0.63</td>\n",
       "      <td>0.00</td>\n",
       "      <td>0.31</td>\n",
       "      <td>0.63</td>\n",
       "      <td>0.31</td>\n",
       "      <td>0.63</td>\n",
       "      <td>...</td>\n",
       "      <td>0.00</td>\n",
       "      <td>0.137</td>\n",
       "      <td>0.0</td>\n",
       "      <td>0.137</td>\n",
       "      <td>0.000</td>\n",
       "      <td>0.000</td>\n",
       "      <td>3.537</td>\n",
       "      <td>40</td>\n",
       "      <td>191</td>\n",
       "      <td>1</td>\n",
       "    </tr>\n",
       "  </tbody>\n",
       "</table>\n",
       "<p>3 rows × 58 columns</p>\n",
       "</div>"
      ],
      "text/plain": [
       "   word_freq_make  word_freq_address  word_freq_all  word_freq_3d  \\\n",
       "0            0.21               0.28           0.50           0.0   \n",
       "1            0.06               0.00           0.71           0.0   \n",
       "2            0.00               0.00           0.00           0.0   \n",
       "\n",
       "   word_freq_our  word_freq_over  word_freq_remove  word_freq_internet  \\\n",
       "0           0.14            0.28              0.21                0.07   \n",
       "1           1.23            0.19              0.19                0.12   \n",
       "2           0.63            0.00              0.31                0.63   \n",
       "\n",
       "   word_freq_order  word_freq_mail  ...    char_freq_semi  char_freq_paran  \\\n",
       "0             0.00            0.94  ...              0.00            0.132   \n",
       "1             0.64            0.25  ...              0.01            0.143   \n",
       "2             0.31            0.63  ...              0.00            0.137   \n",
       "\n",
       "   char_freq_bracket  char_freq_excl  char_freq_dollar  char_freq_num  \\\n",
       "0                0.0           0.372             0.180          0.048   \n",
       "1                0.0           0.276             0.184          0.010   \n",
       "2                0.0           0.137             0.000          0.000   \n",
       "\n",
       "   capital_run_length_average  capital_run_length_longest  \\\n",
       "0                       5.114                         101   \n",
       "1                       9.821                         485   \n",
       "2                       3.537                          40   \n",
       "\n",
       "   capital_run_length_total  class  \n",
       "0                      1028      1  \n",
       "1                      2259      1  \n",
       "2                       191      1  \n",
       "\n",
       "[3 rows x 58 columns]"
      ]
     },
     "execution_count": 9,
     "metadata": {},
     "output_type": "execute_result"
    }
   ],
   "source": [
    "names = \"word_freq_make word_freq_address word_freq_all word_freq_3d word_freq_our word_freq_over word_freq_remove word_freq_internet word_freq_order word_freq_mail word_freq_receive word_freq_will word_freq_people word_freq_report word_freq_addresses word_freq_free word_freq_business word_freq_email word_freq_you word_freq_credit word_freq_your word_freq_font word_freq_000 word_freq_money word_freq_hp word_freq_hpl word_freq_george word_freq_650 word_freq_lab word_freq_labs word_freq_telnet word_freq_857 word_freq_data word_freq_415 word_freq_85 word_freq_technology word_freq_1999 word_freq_parts word_freq_pm word_freq_direct word_freq_cs word_freq_meeting word_freq_original word_freq_project word_freq_re word_freq_edu word_freq_table word_freq_conference char_freq_semi char_freq_paran char_freq_bracket char_freq_excl char_freq_dollar char_freq_num capital_run_length_average capital_run_length_longest capital_run_length_total class\"\n",
    "data.columns = names.split()\n",
    "data.head(3)"
   ]
  },
  {
   "cell_type": "code",
   "execution_count": 10,
   "metadata": {},
   "outputs": [],
   "source": [
    "X = data.copy()\n",
    "X.drop('class', axis=1, inplace=True)\n",
    "\n",
    "y = data['class']"
   ]
  },
  {
   "cell_type": "markdown",
   "metadata": {},
   "source": [
    "## Creating test and train sets"
   ]
  },
  {
   "cell_type": "code",
   "execution_count": 18,
   "metadata": {},
   "outputs": [],
   "source": [
    "X_train, X_test, y_train, y_test = train_test_split(X, y, test_size=0.30, random_state=101)"
   ]
  },
  {
   "cell_type": "markdown",
   "metadata": {},
   "source": [
    "## Modeling"
   ]
  },
  {
   "cell_type": "markdown",
   "metadata": {},
   "source": [
    "### Multinominal Naive Bayes Classifier\n",
    "\n",
    "Let's fit the model on the training data:"
   ]
  },
  {
   "cell_type": "code",
   "execution_count": 27,
   "metadata": {},
   "outputs": [],
   "source": [
    "naive_model = MultinomialNB(alpha=0.5)"
   ]
  },
  {
   "cell_type": "code",
   "execution_count": 28,
   "metadata": {},
   "outputs": [
    {
     "data": {
      "text/plain": [
       "MultinomialNB(alpha=0.5, class_prior=None, fit_prior=True)"
      ]
     },
     "execution_count": 28,
     "metadata": {},
     "output_type": "execute_result"
    }
   ],
   "source": [
    "naive_model.fit(X_train, y_train)"
   ]
  },
  {
   "cell_type": "markdown",
   "metadata": {},
   "source": [
    "Let's do predictions on test data:"
   ]
  },
  {
   "cell_type": "code",
   "execution_count": 29,
   "metadata": {},
   "outputs": [],
   "source": [
    "naive_predictions = naive_model.predict(X_test)"
   ]
  },
  {
   "cell_type": "markdown",
   "metadata": {},
   "source": [
    "#### Model Evaluations:"
   ]
  },
  {
   "cell_type": "code",
   "execution_count": 30,
   "metadata": {},
   "outputs": [
    {
     "name": "stdout",
     "output_type": "stream",
     "text": [
      "              precision    recall  f1-score   support\n",
      "\n",
      "           0       0.81      0.84      0.83       822\n",
      "           1       0.75      0.72      0.73       558\n",
      "\n",
      "   micro avg       0.79      0.79      0.79      1380\n",
      "   macro avg       0.78      0.78      0.78      1380\n",
      "weighted avg       0.79      0.79      0.79      1380\n",
      "\n"
     ]
    }
   ],
   "source": [
    "print(classification_report(y_test, naive_predictions))"
   ]
  },
  {
   "cell_type": "code",
   "execution_count": 34,
   "metadata": {},
   "outputs": [],
   "source": [
    "naive_predictions_probs = naive_model.predict_proba(X_test)"
   ]
  },
  {
   "cell_type": "code",
   "execution_count": 35,
   "metadata": {},
   "outputs": [
    {
     "data": {
      "image/png": "[encoded data removed]",
      "text/plain": [
       "<Figure size 864x288 with 4 Axes>"
      ]
     },
     "metadata": {
      "needs_background": "light"
     },
     "output_type": "display_data"
    }
   ],
   "source": [
    "plot_side_by_side_confusion_matrix(y_test,naive_predictions)"
   ]
  },
  {
   "cell_type": "code",
   "execution_count": 38,
   "metadata": {},
   "outputs": [
    {
     "name": "stderr",
     "output_type": "stream",
     "text": [
      "No handles with labels found to put in legend.\n"
     ]
    },
    {
     "data": {
      "image/png": "[encoded data removed]",
      "text/plain": [
       "<Figure size 432x288 with 1 Axes>"
      ]
     },
     "metadata": {
      "needs_background": "light"
     },
     "output_type": "display_data"
    }
   ],
   "source": [
    "plot_roc_curve(y_test, naive_predictions_probs[:,1])"
   ]
  },
  {
   "cell_type": "markdown",
   "metadata": {},
   "source": [
    "### AdaBoost Classifier\n",
    "\n",
    "Let's try to create a AdaBoost Classifier and fit it to the data:"
   ]
  },
  {
   "cell_type": "code",
   "execution_count": 60,
   "metadata": {},
   "outputs": [],
   "source": [
    "adaboost_model = AdaBoostClassifier(n_estimators=50, learning_rate=0.5)"
   ]
  },
  {
   "cell_type": "code",
   "execution_count": 61,
   "metadata": {},
   "outputs": [
    {
     "data": {
      "text/plain": [
       "AdaBoostClassifier(algorithm='SAMME.R', base_estimator=None,\n",
       "          learning_rate=0.5, n_estimators=50, random_state=None)"
      ]
     },
     "execution_count": 61,
     "metadata": {},
     "output_type": "execute_result"
    }
   ],
   "source": [
    "adaboost_model.fit(X_train, y_train)"
   ]
  },
  {
   "cell_type": "code",
   "execution_count": 62,
   "metadata": {},
   "outputs": [],
   "source": [
    "adaboost_predictions = adaboost_model.predict(X_test)"
   ]
  },
  {
   "cell_type": "markdown",
   "metadata": {},
   "source": [
    "### Model Evaluations"
   ]
  },
  {
   "cell_type": "code",
   "execution_count": 63,
   "metadata": {},
   "outputs": [
    {
     "name": "stdout",
     "output_type": "stream",
     "text": [
      "              precision    recall  f1-score   support\n",
      "\n",
      "           0       0.94      0.98      0.96       822\n",
      "           1       0.96      0.92      0.94       558\n",
      "\n",
      "   micro avg       0.95      0.95      0.95      1380\n",
      "   macro avg       0.95      0.95      0.95      1380\n",
      "weighted avg       0.95      0.95      0.95      1380\n",
      "\n"
     ]
    }
   ],
   "source": [
    "print(classification_report(y_test, adaboost_predictions))"
   ]
  },
  {
   "cell_type": "code",
   "execution_count": 64,
   "metadata": {},
   "outputs": [],
   "source": [
    "adaboost_predictions_probs = adaboost_model.predict_proba(X_test)"
   ]
  },
  {
   "cell_type": "code",
   "execution_count": 65,
   "metadata": {},
   "outputs": [
    {
     "data": {
      "image/png": "[encoded data removed]",
      "text/plain": [
       "<Figure size 864x288 with 4 Axes>"
      ]
     },
     "metadata": {
      "needs_background": "light"
     },
     "output_type": "display_data"
    }
   ],
   "source": [
    "plot_side_by_side_confusion_matrix(y_test,adaboost_predictions)"
   ]
  },
  {
   "cell_type": "code",
   "execution_count": 66,
   "metadata": {},
   "outputs": [
    {
     "name": "stderr",
     "output_type": "stream",
     "text": [
      "No handles with labels found to put in legend.\n"
     ]
    },
    {
     "data": {
      "image/png": "[encoded data removed]",
      "text/plain": [
       "<Figure size 432x288 with 1 Axes>"
      ]
     },
     "metadata": {
      "needs_background": "light"
     },
     "output_type": "display_data"
    }
   ],
   "source": [
    "plot_roc_curve(y_test, adaboost_predictions_probs[:,1])"
   ]
  },
  {
   "cell_type": "markdown",
   "metadata": {},
   "source": [
    "As it can be seen in the evaluation results, the AdaBoost classifier has performed much better than the naive bayes classifier and on the test data is able to detect spam/not spams with a very good accuracy."
   ]
  },
  {
   "cell_type": "code",
   "execution_count": null,
   "metadata": {},
   "outputs": [],
   "source": []
  }
 ],
 "metadata": {
  "kernelspec": {
   "display_name": "Python 3",
   "language": "python",
   "name": "python3"
  },
  "language_info": {
   "codemirror_mode": {
    "name": "ipython",
    "version": 3
   },
   "file_extension": ".py",
   "mimetype": "text/x-python",
   "name": "python",
   "nbconvert_exporter": "python",
   "pygments_lexer": "ipython3",
   "version": "3.6.8"
  }
 },
 "nbformat": 4,
 "nbformat_minor": 2
}
